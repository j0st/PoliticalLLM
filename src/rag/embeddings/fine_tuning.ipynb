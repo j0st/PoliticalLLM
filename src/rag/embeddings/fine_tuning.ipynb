{
  "nbformat": 4,
  "nbformat_minor": 0,
  "metadata": {
    "colab": {
      "provenance": [],
      "gpuType": "T4"
    },
    "kernelspec": {
      "name": "python3",
      "display_name": "Python 3"
    },
    "language_info": {
      "name": "python"
    },
    "accelerator": "GPU"
  },
  "cells": [
    {
      "cell_type": "markdown",
      "source": [
        "### Script for fine-tuning the multilingual e5 embedding model on German political data\n",
        "\n",
        "The model is fine-tuned following this reference: https://www.sbert.net/docs/package_reference/losses.html#multiplenegativesrankingloss.\n",
        "\n",
        "Fine-tuned model can be found at https://huggingface.co/jost/multilingual-e5-base-politics-de."
      ],
      "metadata": {
        "id": "T-BQjBm4iLRH"
      }
    },
    {
      "cell_type": "code",
      "source": [
        "!pip install -U sentence-transformers"
      ],
      "metadata": {
        "id": "6eOXJA-BLocE"
      },
      "execution_count": null,
      "outputs": []
    },
    {
      "cell_type": "code",
      "execution_count": 3,
      "metadata": {
        "id": "nO0n2mmCAcqC"
      },
      "outputs": [],
      "source": [
        "import json\n",
        "\n",
        "import torch\n",
        "from torch.utils.data import DataLoader\n",
        "from sentence_transformers import SentenceTransformer, InputExample, losses\n",
        "from sentence_transformers.evaluation import InformationRetrievalEvaluator"
      ]
    },
    {
      "cell_type": "markdown",
      "source": [
        "###### Load pre-trained checkpoint"
      ],
      "metadata": {
        "id": "fe_UbvP2lFpX"
      }
    },
    {
      "cell_type": "code",
      "source": [
        "model_id = \"intfloat/multilingual-e5-base\"\n",
        "model = SentenceTransformer(model_id)"
      ],
      "metadata": {
        "id": "8MS0AF2RP7Yz"
      },
      "execution_count": null,
      "outputs": []
    },
    {
      "cell_type": "markdown",
      "source": [
        "###### Read training data"
      ],
      "metadata": {
        "id": "SRNPnexllM5d"
      }
    },
    {
      "cell_type": "code",
      "source": [
        "TRAIN_DATASET_FPATH = \"/content/drive/train_dataset.json\"\n",
        "VAL_DATASET_FPATH = '/content/drive/val_dataset.json'"
      ],
      "metadata": {
        "id": "IPSK0CaCP-T2"
      },
      "execution_count": 5,
      "outputs": []
    },
    {
      "cell_type": "markdown",
      "source": [
        "###### Start training"
      ],
      "metadata": {
        "id": "_xVrbSsTlTRn"
      }
    },
    {
      "cell_type": "code",
      "source": [
        "EPOCHS = 1\n",
        "BATCH_SIZE = 64\n",
        "\n",
        "with open(TRAIN_DATASET_FPATH, 'r+') as f:\n",
        "    train_dataset = json.load(f)\n",
        "\n",
        "with open(VAL_DATASET_FPATH, 'r+') as f:\n",
        "    val_dataset = json.load(f)\n",
        "\n",
        "dataset = train_dataset\n",
        "\n",
        "corpus = dataset['corpus']\n",
        "queries = dataset['queries']\n",
        "relevant_docs = dataset['relevant_docs']\n",
        "\n",
        "examples = []\n",
        "for query_id, query in queries.items():\n",
        "    node_id = relevant_docs[query_id][0]\n",
        "    text = corpus[node_id]\n",
        "    example = InputExample(texts=[query, text])\n",
        "    examples.append(example)\n",
        "\n",
        "loader = DataLoader(\n",
        "    examples, batch_size=BATCH_SIZE\n",
        ")\n",
        "\n",
        "loss = losses.MultipleNegativesRankingLoss(model)\n",
        "\n",
        "dataset = val_dataset\n",
        "\n",
        "corpus = dataset['corpus']\n",
        "queries = dataset['queries']\n",
        "relevant_docs = dataset['relevant_docs']\n",
        "\n",
        "evaluator = InformationRetrievalEvaluator(queries, corpus, relevant_docs)\n",
        "\n",
        "model.fit(\n",
        "    train_objectives=[(loader, loss)],\n",
        "    epochs=EPOCHS,\n",
        "    output_path='/content/drive/MyDrive/', # save the model in Google Drive\n",
        "    show_progress_bar=True,\n",
        "    evaluator=evaluator\n",
        ")"
      ],
      "metadata": {
        "id": "QyalfeigP2q9"
      },
      "execution_count": 1,
      "outputs": []
    }
  ]
}